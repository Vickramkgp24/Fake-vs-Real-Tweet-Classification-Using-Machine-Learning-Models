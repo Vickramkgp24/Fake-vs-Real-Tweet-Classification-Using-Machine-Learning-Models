{
 "cells": [
  {
   "cell_type": "code",
   "execution_count": 1,
   "id": "0e898937",
   "metadata": {},
   "outputs": [],
   "source": [
    "from sklearn.model_selection import StratifiedKFold, GridSearchCV\n",
    "import pickle\n",
    "import pandas as pd\n",
    "import os"
   ]
  },
  {
   "cell_type": "code",
   "execution_count": null,
   "id": "21a1bb98",
   "metadata": {},
   "outputs": [],
   "source": [
    "import matplotlib.pyplot as plt\n",
    "import seaborn as sns\n",
    "import numpy as np\n",
    "from sklearn.metrics import (\n",
    "    confusion_matrix, classification_report, accuracy_score, \n",
    "    precision_score, recall_score\n",
    ")\n",
    "\n",
    "\n",
    "def evaluate_model(y_true, y_pred, y_score=None):\n",
    "    \"\"\"\n",
    "    Evaluate model performance with metrics and visualizations.\n",
    "    \n",
    "    y_true: true labels\n",
    "    y_pred: predicted labels\n",
    "    y_score: predicted probabilities (required for ROC curves)\n",
    "    \"\"\"\n",
    "    \n",
    "    # ======== PRINT METRICS ========\n",
    "    print(\"\\nPerformance on test data:\")\n",
    "    print(\"Confusion Matrix:\")\n",
    "    print(confusion_matrix(y_true, y_pred))\n",
    "\n",
    "    print(\"\\nClassification Report:\")\n",
    "    print(classification_report(y_true, y_pred))\n",
    "\n",
    "    print('Accuracy: ', accuracy_score(y_true, y_pred))\n",
    "    print('Precision:', precision_score(y_true, y_pred, average=\"weighted\"))\n",
    "    print('Recall:', recall_score(y_true, y_pred, average=\"weighted\"))\n",
    "    \n",
    "    # ======== CONFUSION MATRIX HEATMAP ========\n",
    "    cm = confusion_matrix(y_true, y_pred)\n",
    "    classes = np.unique(y_true)\n",
    "    plt.figure(figsize=(6, 4))\n",
    "    sns.heatmap(cm, annot=True, fmt='d', cmap='Blues', \n",
    "                xticklabels=classes, yticklabels=classes)\n",
    "    plt.xlabel('Predicted')\n",
    "    plt.ylabel('Actual')\n",
    "    plt.title('Confusion Matrix Heatmap')\n",
    "    plt.show()\n",
    "    \n",
    "    \n"
   ]
  },
  {
   "cell_type": "code",
   "execution_count": 7,
   "id": "3f60c1cb",
   "metadata": {},
   "outputs": [],
   "source": [
    "from sklearn.ensemble import StackingClassifier\n",
    "from sklearn.linear_model import LogisticRegression\n",
    "from sklearn.model_selection import StratifiedKFold, GridSearchCV\n",
    "\n",
    "def train_stacking(model1, model2, model3, model4, X_train, X_test, y_train, y_test):\n",
    "    # Base models\n",
    "    base_estimators = [\n",
    "        ('dt', model1),\n",
    "        ('rf', model2),\n",
    "        ('lr', model3),\n",
    "        ('svc', model4)\n",
    "    ]\n",
    "    \n",
    "    # Stacking ensemble\n",
    "    stack = StackingClassifier(\n",
    "        estimators=base_estimators,\n",
    "        final_estimator=LogisticRegression(max_iter=1000),\n",
    "        stack_method='predict_proba'\n",
    "    )\n",
    "    \n",
    "    # Parameter grid for tuning\n",
    "    param_grid = {\n",
    "        \"final_estimator__C\": [0.1, 1, 10],\n",
    "        \"final_estimator__solver\": [\"liblinear\", \"lbfgs\"]\n",
    "    }\n",
    "    \n",
    "    cv = StratifiedKFold(n_splits=5, shuffle=True, random_state=42)\n",
    "    grid_search = GridSearchCV(stack, param_grid, cv=cv, scoring=\"accuracy\", n_jobs=-1)\n",
    "    grid_search.fit(X_train, y_train)\n",
    "    \n",
    "    best_model = grid_search.best_estimator_\n",
    "    y_pred = best_model.predict(X_test)\n",
    "    \n",
    "    print(\"\\nStacking Classifier:\")\n",
    "    print(\"Best Parameters:\", grid_search.best_params_)\n",
    "    print(\"Best Validation Score:\", grid_search.best_score_)\n",
    "    \n",
    "    return evaluate_model(y_test, y_pred)\n"
   ]
  },
  {
   "cell_type": "code",
   "execution_count": 3,
   "id": "d5c486ec",
   "metadata": {},
   "outputs": [],
   "source": [
    "from sklearn.ensemble import VotingClassifier\n",
    "\n",
    "def train_ensemble(model1, model2, model3, model4, X_train, X_test, y_train, y_test):\n",
    "    ensemble = VotingClassifier(\n",
    "        estimators=[\n",
    "        ('dt', model1),\n",
    "        ('rf', model2),\n",
    "        ('lr', model3),\n",
    "        ('svc', model4)\n",
    "    ]\n",
    "    )\n",
    "    param_grid = {\n",
    "        \"voting\" : [\"soft\", \"hard\"],\n",
    "        \"weights\": [[1, 1, 1, 1], [1, 2, 2, 1]]\n",
    "    }\n",
    "    cv = StratifiedKFold(n_splits=5, shuffle=True, random_state=42)\n",
    "    grid_search = GridSearchCV(ensemble, param_grid, cv=cv, scoring=\"accuracy\", n_jobs=-1)\n",
    "    grid_search.fit(X_train, y_train)\n",
    "\n",
    "    best_model = grid_search.best_estimator_\n",
    "    y_pred = best_model.predict(X_test)\n",
    "    print(\"\\nLogistic Regression:\")\n",
    "    print(\"Best Parameters:\", grid_search.best_params_)\n",
    "    print(\"Best Validation Score:\", grid_search.best_score_)\n",
    "\n",
    "    return evaluate_model(y_test, y_pred)\n",
    "    "
   ]
  },
  {
   "cell_type": "code",
   "execution_count": 4,
   "id": "a55f98db",
   "metadata": {},
   "outputs": [],
   "source": [
    "X_test = pd.read_csv('./tfidf/test.csv')\n",
    "y_test = pd.read_csv('./split/test.csv')\n",
    "y_test = y_test['label']\n",
    "with open(\"label_encoder.pkl\", \"rb\") as f:\n",
    "    y_encoded = pickle.load(f)\n",
    "\n",
    "dir = './models'\n",
    "os.makedirs(dir, exist_ok=True)"
   ]
  },
  {
   "cell_type": "code",
   "execution_count": 5,
   "id": "db05fc11",
   "metadata": {},
   "outputs": [],
   "source": [
    "with open(\"./models/model1.pkl\", \"rb\") as f:\n",
    "    model1 = pickle.load(f)\n",
    "with open(\"./models/model2.pkl\", \"rb\") as f:\n",
    "    model2 = pickle.load(f)\n",
    "with open(\"./models/model3.pkl\", \"rb\") as f:\n",
    "    model3 = pickle.load(f)\n",
    "with open(\"./models/model4.pkl\", \"rb\") as f:\n",
    "    model4 = pickle.load(f)"
   ]
  },
  {
   "cell_type": "code",
   "execution_count": 6,
   "id": "f5b50a56",
   "metadata": {},
   "outputs": [
    {
     "name": "stdout",
     "output_type": "stream",
     "text": [
      "\n",
      "Logistic Regression:\n",
      "Best Parameters: {'voting': 'soft', 'weights': [1, 1, 1, 1]}\n",
      "Best Validation Score: 0.8546121593291405\n",
      "\n",
      "Performance on test data:\n",
      "Confusion Matrix:\n",
      "[[495  22]\n",
      " [138 405]]\n",
      "\n",
      "Classification Report:\n",
      "              precision    recall  f1-score   support\n",
      "\n",
      "        fake       0.78      0.96      0.86       517\n",
      "        real       0.95      0.75      0.84       543\n",
      "\n",
      "    accuracy                           0.85      1060\n",
      "   macro avg       0.87      0.85      0.85      1060\n",
      "weighted avg       0.87      0.85      0.85      1060\n",
      "\n",
      "Accuracy:  0.8490566037735849\n",
      "Precision: 0.8672759610658618\n",
      "Recall: 0.8490566037735849\n"
     ]
    },
    {
     "data": {
      "image/png": "[encoded data removed]",
      "text/plain": [
       "<Figure size 600x400 with 2 Axes>"
      ]
     },
     "metadata": {},
     "output_type": "display_data"
    }
   ],
   "source": [
    "X_train = pd.read_csv(\"./split/train_df_encoded.csv\")\n",
    "y_train = pd.read_csv(\"./split/train.csv\")\n",
    "y_train = y_train['label']\n",
    "y_train_encoded = y_encoded.transform(y_train)\n",
    "train_ensemble(model1, model2, model3, model4, X_train, X_test, y_train, y_test)"
   ]
  },
  {
   "cell_type": "code",
   "execution_count": 8,
   "id": "3b80d134",
   "metadata": {},
   "outputs": [
    {
     "name": "stdout",
     "output_type": "stream",
     "text": [
      "\n",
      "Stacking Classifier:\n",
      "Best Parameters: {'final_estimator__C': 0.1, 'final_estimator__solver': 'lbfgs'}\n",
      "Best Validation Score: 0.8848008385744235\n",
      "\n",
      "Performance on test data:\n",
      "Confusion Matrix:\n",
      "[[472  45]\n",
      " [ 87 456]]\n",
      "\n",
      "Classification Report:\n",
      "              precision    recall  f1-score   support\n",
      "\n",
      "        fake       0.84      0.91      0.88       517\n",
      "        real       0.91      0.84      0.87       543\n",
      "\n",
      "    accuracy                           0.88      1060\n",
      "   macro avg       0.88      0.88      0.88      1060\n",
      "weighted avg       0.88      0.88      0.88      1060\n",
      "\n",
      "Accuracy:  0.8754716981132076\n",
      "Precision: 0.8780794505093166\n",
      "Recall: 0.8754716981132076\n"
     ]
    },
    {
     "data": {
      "image/png": "[encoded data removed]",
      "text/plain": [
       "<Figure size 600x400 with 2 Axes>"
      ]
     },
     "metadata": {},
     "output_type": "display_data"
    }
   ],
   "source": [
    "X_train = pd.read_csv(\"./split/train_df_encoded.csv\")\n",
    "y_train = pd.read_csv(\"./split/train.csv\")\n",
    "y_train = y_train['label']\n",
    "y_train_encoded = y_encoded.transform(y_train)\n",
    "train_stacking(model1, model2, model3, model4, X_train, X_test, y_train, y_test)"
   ]
  }
 ],
 "metadata": {
  "kernelspec": {
   "display_name": "Python 3",
   "language": "python",
   "name": "python3"
  },
  "language_info": {
   "codemirror_mode": {
    "name": "ipython",
    "version": 3
   },
   "file_extension": ".py",
   "mimetype": "text/x-python",
   "name": "python",
   "nbconvert_exporter": "python",
   "pygments_lexer": "ipython3",
   "version": "3.12.3"
  }
 },
 "nbformat": 4,
 "nbformat_minor": 5
}
