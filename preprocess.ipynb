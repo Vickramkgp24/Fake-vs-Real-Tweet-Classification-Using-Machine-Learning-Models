{
 "cells": [
  {
   "cell_type": "code",
   "execution_count": null,
   "id": "017b9713",
   "metadata": {},
   "outputs": [],
   "source": [
    "import pandas as pd\n",
    "from sklearn.model_selection import train_test_split    \n",
    "import os\n",
    "import re\n",
    "import string, emoji\n",
    "from wordsegment import segment\n",
    "from sklearn.feature_extraction.text import TfidfVectorizer\n",
    "from sklearn.preprocessing import LabelEncoder\n",
    "from sklearn.model_selection import GridSearchCV\n",
    "from sklearn.metrics import f1_score, accuracy_score, confusion_matrix, classification_report, recall_score, precision_score\n",
    "import nltk\n",
    "from nltk.corpus import stopwords, wordnet\n",
    "from nltk.stem import WordNetLemmatizer\n",
    "from nltk import pos_tag, word_tokenize\n",
    "from sklearn.model_selection import StratifiedKFold"
   ]
  },
  {
   "cell_type": "code",
   "execution_count": 25,
   "id": "ae9018b5",
   "metadata": {},
   "outputs": [
    {
     "name": "stderr",
     "output_type": "stream",
     "text": [
      "[nltk_data] Downloading package punkt to C:\\Users\\VINOTH KUMAR\n",
      "[nltk_data]     M\\AppData\\Roaming\\nltk_data...\n",
      "[nltk_data]   Package punkt is already up-to-date!\n",
      "[nltk_data] Downloading package stopwords to C:\\Users\\VINOTH KUMAR\n",
      "[nltk_data]     M\\AppData\\Roaming\\nltk_data...\n",
      "[nltk_data]   Package stopwords is already up-to-date!\n",
      "[nltk_data] Downloading package wordnet to C:\\Users\\VINOTH KUMAR\n",
      "[nltk_data]     M\\AppData\\Roaming\\nltk_data...\n",
      "[nltk_data]   Package wordnet is already up-to-date!\n",
      "[nltk_data] Downloading package averaged_perceptron_tagger to\n",
      "[nltk_data]     C:\\Users\\VINOTH KUMAR M\\AppData\\Roaming\\nltk_data...\n",
      "[nltk_data]   Package averaged_perceptron_tagger is already up-to-\n",
      "[nltk_data]       date!\n"
     ]
    },
    {
     "data": {
      "text/plain": [
       "True"
      ]
     },
     "execution_count": 25,
     "metadata": {},
     "output_type": "execute_result"
    }
   ],
   "source": [
    "nltk.download('punkt')\n",
    "nltk.download('stopwords')\n",
    "nltk.download('wordnet')\n",
    "nltk.download('averaged_perceptron_tagger')\n"
   ]
  },
  {
   "cell_type": "code",
   "execution_count": 26,
   "id": "8fefa339",
   "metadata": {},
   "outputs": [
    {
     "data": {
      "text/html": [
       "<div>\n",
       "<style scoped>\n",
       "    .dataframe tbody tr th:only-of-type {\n",
       "        vertical-align: middle;\n",
       "    }\n",
       "\n",
       "    .dataframe tbody tr th {\n",
       "        vertical-align: top;\n",
       "    }\n",
       "\n",
       "    .dataframe thead th {\n",
       "        text-align: right;\n",
       "    }\n",
       "</style>\n",
       "<table border=\"1\" class=\"dataframe\">\n",
       "  <thead>\n",
       "    <tr style=\"text-align: right;\">\n",
       "      <th></th>\n",
       "      <th>tweet</th>\n",
       "      <th>label</th>\n",
       "    </tr>\n",
       "  </thead>\n",
       "  <tbody>\n",
       "    <tr>\n",
       "      <th>0</th>\n",
       "      <td>The CDC currently reports 99031 deaths. In gen...</td>\n",
       "      <td>real</td>\n",
       "    </tr>\n",
       "    <tr>\n",
       "      <th>1</th>\n",
       "      <td>States reported 1121 deaths a small rise from ...</td>\n",
       "      <td>real</td>\n",
       "    </tr>\n",
       "    <tr>\n",
       "      <th>2</th>\n",
       "      <td>Politically Correct Woman (Almost) Uses Pandem...</td>\n",
       "      <td>fake</td>\n",
       "    </tr>\n",
       "    <tr>\n",
       "      <th>3</th>\n",
       "      <td>#IndiaFightsCorona: We have 1524 #COVID testin...</td>\n",
       "      <td>real</td>\n",
       "    </tr>\n",
       "    <tr>\n",
       "      <th>4</th>\n",
       "      <td>Populous states can generate large case counts...</td>\n",
       "      <td>real</td>\n",
       "    </tr>\n",
       "  </tbody>\n",
       "</table>\n",
       "</div>"
      ],
      "text/plain": [
       "                                               tweet label\n",
       "0  The CDC currently reports 99031 deaths. In gen...  real\n",
       "1  States reported 1121 deaths a small rise from ...  real\n",
       "2  Politically Correct Woman (Almost) Uses Pandem...  fake\n",
       "3  #IndiaFightsCorona: We have 1524 #COVID testin...  real\n",
       "4  Populous states can generate large case counts...  real"
      ]
     },
     "execution_count": 26,
     "metadata": {},
     "output_type": "execute_result"
    }
   ],
   "source": [
    "headers = ['tweet', 'label']\n",
    "\n",
    "df = pd.read_csv('dataset.csv')\n",
    "df.to_csv(\"./data.csv\", index=False)\n",
    "df.head()"
   ]
  },
  {
   "cell_type": "code",
   "execution_count": null,
   "id": "5db0c4af",
   "metadata": {},
   "outputs": [],
   "source": [
    "def _pos_tag_to_wordnet(tag):\n",
    "    if tag.startswith('J'):\n",
    "        return wordnet.ADJ\n",
    "    if tag.startswith('V'):\n",
    "        return wordnet.VERB\n",
    "    if tag.startswith('N'):\n",
    "        return wordnet.NOUN\n",
    "    if tag.startswith('R'):\n",
    "        return wordnet.ADV\n",
    "    return wordnet.NOUN"
   ]
  },
  {
   "cell_type": "code",
   "execution_count": null,
   "id": "fa076c8d",
   "metadata": {},
   "outputs": [],
   "source": [
    "from wordsegment import load, segment\n",
    "import re\n",
    "\n",
    "load()\n",
    "\n",
    "def replace_hashtag(text):\n",
    "    def _split_hash(match):\n",
    "        h = match.group(0)[1:]  # remove '#'\n",
    "        h_clean = re.sub(r'[^a-zA-Z]', '', h)  # keep only letters\n",
    "        if not h_clean:\n",
    "            return \"\"\n",
    "        try:\n",
    "            pieces = segment(h_clean)\n",
    "            return \" \".join(pieces) if pieces else h_clean\n",
    "        except ValueError:\n",
    "            # If segmentation fails, just return original cleaned hashtag\n",
    "            return h_clean\n",
    "    return re.sub(r'#\\w+', _split_hash, text)"
   ]
  },
  {
   "cell_type": "code",
   "execution_count": 29,
   "id": "54388bb5",
   "metadata": {},
   "outputs": [],
   "source": [
    "\n",
    "def preprocess_text_improved(text, remove_stopwords=True, lemmatize=True):\n",
    "    \"\"\"\n",
    "    Returns a cleaned string.\n",
    "    - replace URLs, mentions\n",
    "    - demojize emojis (emoji -> :smile:)\n",
    "    - expand hashtags into words\n",
    "    - normalize repeated characters\n",
    "    - replace numbers with <NUM>\n",
    "    - remove punctuation (keeps internal apostrophes removed)\n",
    "    - lower, tokenize, optional stopword removal and lemmatize\n",
    "    \"\"\"\n",
    "    if not isinstance(text, str):\n",
    "        return \"\"\n",
    "    # 1. lower\n",
    "    text = text.lower()\n",
    "\n",
    "    # 2. urls and mentions\n",
    "    text = re.sub(r'http\\S+|www\\.\\S+', ' ', text)          # remove URLs\n",
    "    text = re.sub(r'@\\w+', ' ', text)                     # remove @mentions\n",
    "\n",
    "    # 3. demojize (turn emoji into textual token like :smile:)\n",
    "    text = emoji.demojize(text, delimiters=(\" \", \" \"))    # \"🙂\" -> \" :slightly_smiling_face: \"\n",
    "    \n",
    "    # 4. hashtags -> split into words\n",
    "    text = replace_hashtag(text)\n",
    "\n",
    "    # 5. replace digits with <NUM>\n",
    "    text = re.sub(r'\\d+(?:[\\.,]\\d+)*', ' <NUM> ', text)\n",
    "\n",
    "    # 6. normalize elongated characters: reduce 3+ repeats to 2 (so looove -> loove)\n",
    "    text = re.sub(r'(.)\\1{2,}', r'\\1\\1', text)\n",
    "\n",
    "    # 7. remove punctuation (keep spaces). If you want to keep emoticon punctuation, adjust.\n",
    "    # Remove punctuation except the placeholder tokens like :smile: and <NUM>\n",
    "    # First preserve coloned tokens (e.g. :smile:) by temporary marker\n",
    "    text = re.sub(r':([a-z0-9_+-]+):', r' EMOJI_\\1_EMO ', text)\n",
    "    text = text.translate(str.maketrans(string.punctuation, ' '*len(string.punctuation)))\n",
    "    text = re.sub(r'\\s+', ' ', text).strip()\n",
    "    # restore emoji tokens\n",
    "    text = re.sub(r'EMOJI_([a-z0-9_+-]+)_EMO', r':\\1:', text)\n",
    "\n",
    "    if text == \"\":\n",
    "        return \"\"\n",
    "\n",
    "    # 8. tokenize\n",
    "    tokens = word_tokenize(text)\n",
    "\n",
    "    # 9. optional stopword removal, but keep <NUM> and emoji tokens\n",
    "    stop_words = set(stopwords.words('english'))\n",
    "    if remove_stopwords:\n",
    "        filtered = []\n",
    "        for t in tokens:\n",
    "            if t == '<NUM>' or (t.startswith(':') and t.endswith(':')):\n",
    "                filtered.append(t)\n",
    "            elif t not in stop_words:\n",
    "                filtered.append(t)\n",
    "        tokens = filtered\n",
    "\n",
    "    # 10. lemmatize with POS\n",
    "    lemmatizer = WordNetLemmatizer()\n",
    "    if lemmatize:\n",
    "        pos_tags = pos_tag(tokens)\n",
    "        lem_tokens = []\n",
    "        for tok, tag in pos_tags:\n",
    "            wn_tag = _pos_tag_to_wordnet(tag)\n",
    "            tok_lem = lemmatizer.lemmatize(tok, wn_tag)\n",
    "            lem_tokens.append(tok_lem)\n",
    "        tokens = lem_tokens\n",
    "\n",
    "    # 11. final join\n",
    "    cleaned = \" \".join(tokens)\n",
    "    return cleaned"
   ]
  },
  {
   "cell_type": "code",
   "execution_count": 30,
   "id": "aae474de",
   "metadata": {},
   "outputs": [],
   "source": [
    "def preprocess_dataframe(df, text_column='tweet', label_column='label'):\n",
    "    \"\"\"\n",
    "    Adds 'clean_text' column (or overwrite) and drops rows with empty cleaned text.\n",
    "    Returns cleaned dataframe and (optionally) label encoder if needed.\n",
    "    \"\"\"\n",
    "    df = df.copy()\n",
    "    df[text_column] = df[text_column].apply(preprocess_text_improved)\n",
    "    # drop rows where cleaned text is empty\n",
    "    before = len(df)\n",
    "    df = df[df[text_column].str.strip().astype(bool)].reset_index(drop=True)\n",
    "    after = len(df)\n",
    "    print(f\"Preprocessing: dropped {before-after} empty rows (out of {before}).\")\n",
    "    return df"
   ]
  },
  {
   "cell_type": "code",
   "execution_count": 31,
   "id": "3f47e29d",
   "metadata": {},
   "outputs": [],
   "source": [
    "import matplotlib.pyplot as plt\n",
    "import seaborn as sns\n",
    "import numpy as np\n",
    "from sklearn.metrics import (\n",
    "    confusion_matrix, classification_report, accuracy_score, \n",
    "    precision_score, recall_score, roc_curve, auc\n",
    ")\n",
    "from sklearn.preprocessing import label_binarize\n",
    "\n",
    "\n",
    "def evaluate_model(y_true, y_pred, y_score=None):\n",
    "    \"\"\"\n",
    "    Evaluate model performance with metrics and visualizations.\n",
    "    \n",
    "    y_true: true labels\n",
    "    y_pred: predicted labels\n",
    "    y_score: predicted probabilities (required for ROC curves)\n",
    "    \"\"\"\n",
    "    \n",
    "    # ======== PRINT METRICS ========\n",
    "    print(\"\\nPerformance on test data:\")\n",
    "    print(\"Confusion Matrix:\")\n",
    "    print(confusion_matrix(y_true, y_pred))\n",
    "\n",
    "    print(\"\\nClassification Report:\")\n",
    "    print(classification_report(y_true, y_pred))\n",
    "\n",
    "    print('Accuracy: ', accuracy_score(y_true, y_pred))\n",
    "    print('Precision:', precision_score(y_true, y_pred, average=\"weighted\"))\n",
    "    print('Recall:', recall_score(y_true, y_pred, average=\"weighted\"))\n",
    "    \n",
    "    # ======== CONFUSION MATRIX HEATMAP ========\n",
    "    cm = confusion_matrix(y_true, y_pred)\n",
    "    classes = np.unique(y_true)\n",
    "    plt.figure(figsize=(6, 4))\n",
    "    sns.heatmap(cm, annot=True, fmt='d', cmap='Blues', \n",
    "                xticklabels=classes, yticklabels=classes)\n",
    "    plt.xlabel('Predicted')\n",
    "    plt.ylabel('Actual')\n",
    "    plt.title('Confusion Matrix Heatmap')\n",
    "    plt.show()\n",
    "    \n",
    "    # ======== ROC CURVE ========\n",
    "    if y_score is not None:\n",
    "        plt.figure(figsize=(6, 4))\n",
    "        \n",
    "        if len(classes) == 2:\n",
    "            # Binary ROC\n",
    "            fpr, tpr, _ = roc_curve(y_true, y_score[:, 1])\n",
    "            roc_auc = auc(fpr, tpr)\n",
    "            plt.plot(fpr, tpr, label=f'ROC curve (AUC = {roc_auc:.2f})')\n",
    "        \n",
    "        else:\n",
    "            # Multi-class ROC (One-vs-Rest)\n",
    "            y_true_bin = label_binarize(y_true, classes=classes)\n",
    "            for i in range(len(classes)):\n",
    "                fpr, tpr, _ = roc_curve(y_true_bin[:, i], y_score[:, i])\n",
    "                roc_auc = auc(fpr, tpr)\n",
    "                plt.plot(fpr, tpr, label=f'Class {classes[i]} (AUC = {roc_auc:.2f})')\n",
    "        \n",
    "        plt.plot([0, 1], [0, 1], 'k--')\n",
    "        plt.xlabel('False Positive Rate')\n",
    "        plt.ylabel('True Positive Rate')\n",
    "        plt.title('ROC Curve')\n",
    "        plt.legend()\n",
    "        plt.show()\n"
   ]
  },
  {
   "cell_type": "code",
   "execution_count": 32,
   "id": "467fdb5e",
   "metadata": {},
   "outputs": [],
   "source": [
    "from sklearn.neighbors import KNeighborsClassifier\n",
    "def train_knn(X_train, X_test, y_train, y_test):\n",
    "    knn = KNeighborsClassifier()\n",
    "    param_grid = {\n",
    "        \"n_neighbors\" : [3, 5, 7, 9, 11],\n",
    "        \"weights\" : [\"uniform\", \"distance\"],\n",
    "        \"metric\" : [\"euclidean\", \"manhattan\"]\n",
    "    }\n",
    "    cv = StratifiedKFold(n_splits=5, shuffle=True, random_state=42)\n",
    "    grid_search = GridSearchCV(knn, param_grid, cv=cv, scoring=\"accuracy\", n_jobs=-1)\n",
    "    grid_search.fit(X_train, y_train)\n",
    "\n",
    "    best_knn = grid_search.best_estimator_\n",
    "\n",
    "    y_pred = best_knn.predict(X_test)\n",
    "\n",
    "    print(\"\\nK-Nearest Neighbors\")\n",
    "    print(\"Best Parameters: \", grid_search.best_params_)\n",
    "\n",
    "    evaluate_model(y_test, y_pred)\n",
    "    return best_knn"
   ]
  },
  {
   "cell_type": "code",
   "execution_count": 33,
   "id": "8589159c",
   "metadata": {},
   "outputs": [],
   "source": [
    "from sklearn.linear_model import LogisticRegression\n",
    "def train_logistic_regression(X_train, X_test, y_train, y_test):\n",
    "    lr = LogisticRegression(max_iter=1000)\n",
    "    param_grid = {\n",
    "        \"C\": [0.001, 0.01, 0.1, 1, 10, 100],\n",
    "        \"penalty\": [\"l2\"],\n",
    "        \"solver\": [\"lbfgs\"],\n",
    "    }\n",
    "    cv = StratifiedKFold(n_splits=5, shuffle=True, random_state=42)\n",
    "    grid_search = GridSearchCV(lr, param_grid, cv=cv, scoring=\"accuracy\", n_jobs=-1)\n",
    "    grid_search.fit(X_train, y_train)\n",
    "\n",
    "    best_lr = grid_search.best_estimator_\n",
    "    y_pred = best_lr.predict(X_test)\n",
    "    print(\"\\nLogistic Regression:\")\n",
    "    print(\"Best Parameters:\", grid_search.best_params_)\n",
    "    print(\"Best Validation Score:\", grid_search.best_score_)\n",
    "\n",
    "    evaluate_model(y_test, y_pred)\n",
    "    return best_lr"
   ]
  },
  {
   "cell_type": "code",
   "execution_count": 34,
   "id": "4d360504",
   "metadata": {},
   "outputs": [],
   "source": [
    "from sklearn.svm import LinearSVC\n",
    "def train_svm(X_train, X_test, y_train, y_test):\n",
    "    svm = LinearSVC()\n",
    "    param_grid = {\n",
    "        \"C\" : [0.001, 0.01, 0.1, 1, 10]\n",
    "    }\n",
    "    cv = StratifiedKFold(n_splits=5, shuffle=True, random_state=42)\n",
    "    grid_search = GridSearchCV(svm, param_grid, cv=cv, scoring=\"accuracy\", n_jobs=-1)\n",
    "    grid_search.fit(X_train, y_train)\n",
    "\n",
    "    best_model = grid_search.best_estimator_\n",
    "\n",
    "    y_pred = best_model.predict(X_test)\n",
    "    print(\"\\nLogistic Regression:\")\n",
    "    print(\"Best Parameters:\", grid_search.best_params_)\n",
    "    print(\"Best Validation Score:\", grid_search.best_score_)\n",
    "\n",
    "    evaluate_model(y_test, y_pred)\n",
    "    return best_model"
   ]
  },
  {
   "cell_type": "code",
   "execution_count": 35,
   "id": "235ab156",
   "metadata": {},
   "outputs": [],
   "source": [
    "from sklearn.tree import DecisionTreeClassifier\n",
    "\n",
    "def train_decision_tree(X_train, X_test, y_train, y_test):\n",
    "    tree = DecisionTreeClassifier()\n",
    "    param_grid = {\n",
    "        \"max_depth\" : [5, 10, 20]\n",
    "    }\n",
    "    cv = StratifiedKFold(n_splits=5, shuffle=True, random_state=42)\n",
    "    grid_search = GridSearchCV(tree, param_grid, cv=cv, scoring=\"accuracy\", n_jobs=-1)\n",
    "    grid_search.fit(X_train, y_train)\n",
    "\n",
    "    best_model = grid_search.best_estimator_\n",
    "\n",
    "    y_pred = best_model.predict(X_test)\n",
    "    print(\"\\nLogistic Regression:\")\n",
    "    print(\"Best Parameters:\", grid_search.best_params_)\n",
    "    print(\"Best Validation Score:\", grid_search.best_score_)\n",
    "\n",
    "    evaluate_model(y_test, y_pred)\n",
    "    return best_model"
   ]
  },
  {
   "cell_type": "code",
   "execution_count": 36,
   "id": "710ca315",
   "metadata": {},
   "outputs": [],
   "source": [
    "from sklearn.ensemble import VotingClassifier\n",
    "\n",
    "def train_ensemble(model1, model2, model3, model4, X_train, X_test, y_train, y_test):\n",
    "    ensemble = VotingClassifier(\n",
    "        estimators=[\n",
    "        ('dt', model1),\n",
    "        ('rf', model2),\n",
    "        ('lr', model3),\n",
    "        ('svc', model4)\n",
    "    ]\n",
    "    )\n",
    "    param_grid = {\n",
    "        \"voting\" : [\"soft\", \"hard\"],\n",
    "        \"weights\": [[1, 1, 1, 1], [1, 2, 2, 1]]\n",
    "    }\n",
    "    cv = StratifiedKFold(n_splits=5, shuffle=True, random_state=42)\n",
    "    grid_search = GridSearchCV(ensemble, param_grid, cv=cv, scoring=\"accuracy\", n_jobs=-1)\n",
    "    grid_search.fit(X_train, y_train)\n",
    "\n",
    "    best_model = grid_search.best_estimator_\n",
    "    y_pred = best_model.predict(X_test)\n",
    "    print(\"\\nLogistic Regression:\")\n",
    "    print(\"Best Parameters:\", grid_search.best_params_)\n",
    "    print(\"Best Validation Score:\", grid_search.best_score_)\n",
    "\n",
    "    return evaluate_model(y_test, y_pred)\n",
    "    "
   ]
  },
  {
   "cell_type": "code",
   "execution_count": 37,
   "id": "1dee220f",
   "metadata": {},
   "outputs": [],
   "source": [
    "X = df['tweet']\n",
    "y = df['label']\n",
    "X_train, X_test, Y_train, Y_test = train_test_split(X, y, test_size=0.1, random_state=42)\n",
    "tfidf_vectorizer =  TfidfVectorizer(\n",
    "    ngram_range=(1, 2),       # unigrams, bigrams, trigrams\n",
    "    min_df=5,                 # ignore words in <3 documents\n",
    "    max_df=0.7,               # ignore words in >80% of documents\n",
    "    sublinear_tf=True,        # logarithmic term frequency scaling\n",
    "    max_features=2000,       # limit features to top 20k by term frequency\n",
    "    norm='l2'                 # L2 normalization (good for linear models)\n",
    ")\n",
    "train_tfidf = tfidf_vectorizer.fit(df['tweet'])"
   ]
  },
  {
   "cell_type": "code",
   "execution_count": 48,
   "id": "f91ffdb1",
   "metadata": {},
   "outputs": [],
   "source": [
    "import pickle\n",
    "\n",
    "le = LabelEncoder()\n",
    "y_encoded = le.fit(Y_train)\n",
    "\n",
    "with open(\"label_encoder.pkl\", \"wb\") as f:\n",
    "    pickle.dump(le, f)"
   ]
  },
  {
   "cell_type": "code",
   "execution_count": 39,
   "id": "9dbf18d1",
   "metadata": {},
   "outputs": [
    {
     "name": "stdout",
     "output_type": "stream",
     "text": [
      "Preprocessing: dropped 0 empty rows (out of 1060).\n",
      "Preprocessing: dropped 0 empty rows (out of 9540).\n",
      "label\n",
      "real    5002\n",
      "fake    4538\n",
      "Name: count, dtype: int64\n"
     ]
    }
   ],
   "source": [
    "dir = './split'\n",
    "os.makedirs(dir, exist_ok=True)\n",
    "train_df = pd.concat([X_train, Y_train], axis=1)\n",
    "test_df = pd.concat([X_test, Y_test], axis=1)\n",
    "test_df = preprocess_dataframe(test_df)\n",
    "test_df.to_csv('./split/test.csv', index=False)\n",
    "train_df = preprocess_dataframe(train_df)\n",
    "train_df.to_csv('./split/train.csv')\n",
    "train_df_encoded = tfidf_vectorizer.transform(train_df['tweet'])\n",
    "train_df_encoded = pd.DataFrame(train_df_encoded.toarray(), columns=tfidf_vectorizer.get_feature_names_out())\n",
    "train_df_encoded.to_csv('./split/train_df_encoded.csv', index=False)\n",
    "print(train_df['label'].value_counts())"
   ]
  },
  {
   "cell_type": "code",
   "execution_count": 40,
   "id": "1c20c868",
   "metadata": {},
   "outputs": [
    {
     "name": "stderr",
     "output_type": "stream",
     "text": [
      "C:\\Users\\VINOTH KUMAR M\\AppData\\Roaming\\Python\\Python312\\site-packages\\numpy\\_core\\fromnumeric.py:57: FutureWarning: 'DataFrame.swapaxes' is deprecated and will be removed in a future version. Please use 'DataFrame.transpose' instead.\n",
      "  return bound(*args, **kwds)\n"
     ]
    }
   ],
   "source": [
    "size = train_df.shape[0] // 5\n",
    "dir = './tfidf'\n",
    "dir1 = './preprocess'\n",
    "os.makedirs(dir, exist_ok=True)\n",
    "os.makedirs(dir1, exist_ok=True)\n",
    "# Shuffle the dataset once\n",
    "shuffled_df = train_df.sample(frac=1, random_state=42).reset_index(drop=True)\n",
    "\n",
    "# Split into 4 equal parts (last split may have 1 extra row if not divisible)\n",
    "splits = np.array_split(shuffled_df, 4)\n",
    "\n",
    "for i, split_df in enumerate(splits, start=1):\n",
    "    # Save raw text\n",
    "    split_df.to_csv(f'./split/train_{i}.csv', index=False)\n",
    "    \n",
    "    # Transform to TF-IDF\n",
    "    tfidf_matrix = tfidf_vectorizer.transform(split_df['tweet'])\n",
    "    tfidf_df = pd.DataFrame(tfidf_matrix.toarray(),\n",
    "                            columns=tfidf_vectorizer.get_feature_names_out())\n",
    "    \n",
    "    tfidf_df.to_csv(f'./tfidf/train_{i}.csv', index=False)\n",
    "\n",
    "test_df = pd.read_csv('./split/test.csv')\n",
    "test_df = tfidf_vectorizer.transform(test_df['tweet'])\n",
    "test_df = pd.DataFrame(test_df.toarray(), columns=tfidf_vectorizer.get_feature_names_out())\n",
    "test_df.to_csv('./tfidf/test.csv', index=False)"
   ]
  },
  {
   "cell_type": "code",
   "execution_count": 41,
   "id": "8cb58e7a",
   "metadata": {},
   "outputs": [],
   "source": [
    "X_test = pd.read_csv('./tfidf/test.csv')\n",
    "y_test = pd.read_csv('./split/test.csv')\n",
    "y_test = y_test['label']"
   ]
  },
  {
   "cell_type": "code",
   "execution_count": 47,
   "id": "8493f91f",
   "metadata": {},
   "outputs": [
    {
     "name": "stderr",
     "output_type": "stream",
     "text": [
      "C:\\Users\\VINOTH KUMAR M\\AppData\\Roaming\\Python\\Python312\\site-packages\\numpy\\ma\\core.py:2892: RuntimeWarning: invalid value encountered in cast\n",
      "  _data = np.array(data, dtype=dtype, copy=copy,\n"
     ]
    },
    {
     "name": "stdout",
     "output_type": "stream",
     "text": [
      "\n",
      "K-Nearest Neighbors\n",
      "Best Parameters:  {'metric': 'euclidean', 'n_neighbors': 11, 'weights': 'distance'}\n",
      "\n",
      "Performance on test data:\n",
      "Confusion Matrix:\n",
      "[[480  37]\n",
      " [150 393]]\n",
      "\n",
      "Classification Report:\n",
      "              precision    recall  f1-score   support\n",
      "\n",
      "        fake       0.76      0.93      0.84       517\n",
      "        real       0.91      0.72      0.81       543\n",
      "\n",
      "    accuracy                           0.82      1060\n",
      "   macro avg       0.84      0.83      0.82      1060\n",
      "weighted avg       0.84      0.82      0.82      1060\n",
      "\n",
      "Accuracy:  0.8235849056603773\n",
      "Precision: 0.839793873670574\n",
      "Recall: 0.8235849056603773\n"
     ]
    },
    {
     "data": {
      "image/png": "[encoded data removed]",
      "text/plain": [
       "<Figure size 600x400 with 2 Axes>"
      ]
     },
     "metadata": {},
     "output_type": "display_data"
    }
   ],
   "source": [
    "X_train = pd.read_csv(\"./tfidf/train_1.csv\")\n",
    "y_train = pd.read_csv('./split/train_1.csv')\n",
    "y_train = y_train['label']\n",
    "\n",
    "y_train_encoded = y_encoded.transform(y_train)\n",
    "model1 = train_knn(X_train, X_test, y_train, y_test)"
   ]
  },
  {
   "cell_type": "code",
   "execution_count": 43,
   "id": "51d5d0eb",
   "metadata": {},
   "outputs": [
    {
     "name": "stdout",
     "output_type": "stream",
     "text": [
      "\n",
      "Logistic Regression:\n",
      "Best Parameters: {'C': 10, 'penalty': 'l2', 'solver': 'lbfgs'}\n",
      "Best Validation Score: 0.8935010482180294\n",
      "\n",
      "Performance on test data:\n",
      "Confusion Matrix:\n",
      "[[443  74]\n",
      " [ 66 477]]\n",
      "\n",
      "Classification Report:\n",
      "              precision    recall  f1-score   support\n",
      "\n",
      "        fake       0.87      0.86      0.86       517\n",
      "        real       0.87      0.88      0.87       543\n",
      "\n",
      "    accuracy                           0.87      1060\n",
      "   macro avg       0.87      0.87      0.87      1060\n",
      "weighted avg       0.87      0.87      0.87      1060\n",
      "\n",
      "Accuracy:  0.8679245283018868\n",
      "Precision: 0.8679595113858838\n",
      "Recall: 0.8679245283018868\n"
     ]
    },
    {
     "data": {
      "image/png": "[encoded data removed]",
      "text/plain": [
       "<Figure size 600x400 with 2 Axes>"
      ]
     },
     "metadata": {},
     "output_type": "display_data"
    }
   ],
   "source": [
    "X_train = pd.read_csv(\"./tfidf/train_2.csv\")\n",
    "y_train = pd.read_csv('./split/train_2.csv')\n",
    "y_train = y_train['label']\n",
    "y_train_encoded = y_encoded.transform(y_train)\n",
    "model2 = train_logistic_regression(X_train, X_test, y_train, y_test)"
   ]
  },
  {
   "cell_type": "code",
   "execution_count": 44,
   "id": "0d855108",
   "metadata": {},
   "outputs": [
    {
     "name": "stdout",
     "output_type": "stream",
     "text": [
      "\n",
      "Logistic Regression:\n",
      "Best Parameters: {'C': 0.1}\n",
      "Best Validation Score: 0.879245283018868\n",
      "\n",
      "Performance on test data:\n",
      "Confusion Matrix:\n",
      "[[450  67]\n",
      " [ 59 484]]\n",
      "\n",
      "Classification Report:\n",
      "              precision    recall  f1-score   support\n",
      "\n",
      "        fake       0.88      0.87      0.88       517\n",
      "        real       0.88      0.89      0.88       543\n",
      "\n",
      "    accuracy                           0.88      1060\n",
      "   macro avg       0.88      0.88      0.88      1060\n",
      "weighted avg       0.88      0.88      0.88      1060\n",
      "\n",
      "Accuracy:  0.8811320754716981\n",
      "Precision: 0.8811749701146914\n",
      "Recall: 0.8811320754716981\n"
     ]
    },
    {
     "data": {
      "image/png": "[encoded data removed]",
      "text/plain": [
       "<Figure size 600x400 with 2 Axes>"
      ]
     },
     "metadata": {},
     "output_type": "display_data"
    }
   ],
   "source": [
    "X_train = pd.read_csv(\"./tfidf/train_3.csv\")\n",
    "y_train = pd.read_csv('./split/train_3.csv')\n",
    "y_train = y_train['label']\n",
    "y_train_encoded = y_encoded.transform(y_train)\n",
    "model3 = train_svm(X_train, X_test, y_train, y_test)"
   ]
  },
  {
   "cell_type": "code",
   "execution_count": 45,
   "id": "a575491e",
   "metadata": {},
   "outputs": [
    {
     "name": "stdout",
     "output_type": "stream",
     "text": [
      "\n",
      "Logistic Regression:\n",
      "Best Parameters: {'max_depth': 20}\n",
      "Best Validation Score: 0.8293501048218029\n",
      "\n",
      "Performance on test data:\n",
      "Confusion Matrix:\n",
      "[[441  76]\n",
      " [127 416]]\n",
      "\n",
      "Classification Report:\n",
      "              precision    recall  f1-score   support\n",
      "\n",
      "        fake       0.78      0.85      0.81       517\n",
      "        real       0.85      0.77      0.80       543\n",
      "\n",
      "    accuracy                           0.81      1060\n",
      "   macro avg       0.81      0.81      0.81      1060\n",
      "weighted avg       0.81      0.81      0.81      1060\n",
      "\n",
      "Accuracy:  0.8084905660377358\n",
      "Precision: 0.8118161511637705\n",
      "Recall: 0.8084905660377358\n"
     ]
    },
    {
     "data": {
      "image/png": "[encoded data removed]",
      "text/plain": [
       "<Figure size 600x400 with 2 Axes>"
      ]
     },
     "metadata": {},
     "output_type": "display_data"
    }
   ],
   "source": [
    "X_train = pd.read_csv(\"./tfidf/train_4.csv\")\n",
    "y_train = pd.read_csv('./split/train_4.csv')\n",
    "y_train = y_train['label']\n",
    "y_train_encoded = y_encoded.transform(y_train)\n",
    "model4 = train_decision_tree(X_train, X_test, y_train, y_test)"
   ]
  },
  {
   "cell_type": "code",
   "execution_count": 46,
   "id": "9d5ea051",
   "metadata": {},
   "outputs": [
    {
     "name": "stderr",
     "output_type": "stream",
     "text": [
      "C:\\Users\\VINOTH KUMAR M\\AppData\\Roaming\\Python\\Python312\\site-packages\\sklearn\\model_selection\\_search.py:1102: UserWarning: One or more of the test scores are non-finite: [       nan        nan 0.90377358 0.90890985]\n",
      "  warnings.warn(\n"
     ]
    },
    {
     "name": "stdout",
     "output_type": "stream",
     "text": [
      "\n",
      "Logistic Regression:\n",
      "Best Parameters: {'voting': 'hard', 'weights': [1, 2, 2, 1]}\n",
      "Best Validation Score: 0.9089098532494759\n",
      "\n",
      "Performance on test data:\n",
      "Confusion Matrix:\n",
      "[[477  40]\n",
      " [ 57 486]]\n",
      "\n",
      "Classification Report:\n",
      "              precision    recall  f1-score   support\n",
      "\n",
      "        fake       0.89      0.92      0.91       517\n",
      "        real       0.92      0.90      0.91       543\n",
      "\n",
      "    accuracy                           0.91      1060\n",
      "   macro avg       0.91      0.91      0.91      1060\n",
      "weighted avg       0.91      0.91      0.91      1060\n",
      "\n",
      "Accuracy:  0.9084905660377358\n",
      "Precision: 0.9089828595058244\n",
      "Recall: 0.9084905660377358\n"
     ]
    },
    {
     "data": {
      "image/png": "[encoded data removed]",
      "text/plain": [
       "<Figure size 600x400 with 2 Axes>"
      ]
     },
     "metadata": {},
     "output_type": "display_data"
    }
   ],
   "source": [
    "X_train = pd.read_csv(\"./split/train_df_encoded.csv\")\n",
    "y_train = pd.read_csv(\"./split/train.csv\")\n",
    "y_train = y_train['label']\n",
    "y_train_encoded = y_encoded.transform(y_train)\n",
    "train_ensemble(model1, model2, model3, model4, X_train, X_test, y_train, y_test)"
   ]
  }
 ],
 "metadata": {
  "kernelspec": {
   "display_name": "Python 3",
   "language": "python",
   "name": "python3"
  },
  "language_info": {
   "codemirror_mode": {
    "name": "ipython",
    "version": 3
   },
   "file_extension": ".py",
   "mimetype": "text/x-python",
   "name": "python",
   "nbconvert_exporter": "python",
   "pygments_lexer": "ipython3",
   "version": "3.12.3"
  }
 },
 "nbformat": 4,
 "nbformat_minor": 5
}
